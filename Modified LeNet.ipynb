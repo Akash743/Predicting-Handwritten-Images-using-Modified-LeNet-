{
 "cells": [
  {
   "cell_type": "markdown",
   "metadata": {},
   "source": [
    "## LeNet network"
   ]
  },
  {
   "cell_type": "markdown",
   "metadata": {},
   "source": [
    "LeNet5 is a small network, it contains the basic modules of deep learning: convolutional layer, pooling layer, and full link layer. It is the basis of other deep learning models"
   ]
  },
  {
   "cell_type": "markdown",
   "metadata": {},
   "source": [
    "![lenet1](arch.jpg)"
   ]
  },
  {
   "cell_type": "markdown",
   "metadata": {},
   "source": [
    "## Data Pre-processing"
   ]
  },
  {
   "cell_type": "code",
   "execution_count": 6,
   "metadata": {},
   "outputs": [],
   "source": [
    "import keras\n",
    "from keras.datasets import mnist\n",
    "from keras.layers import Conv2D, MaxPooling2D\n",
    "from keras.layers import Dense, Flatten\n",
    "from keras.models import Sequential\n",
    "\n"
   ]
  },
  {
   "cell_type": "code",
   "execution_count": 7,
   "metadata": {},
   "outputs": [],
   "source": [
    "# Loading the dataset and perform splitting\n",
    "(x_train, y_train), (x_test, y_test) = mnist.load_data()\n"
   ]
  },
  {
   "cell_type": "code",
   "execution_count": 8,
   "metadata": {},
   "outputs": [
    {
     "data": {
      "text/plain": [
       "(28, 28)"
      ]
     },
     "execution_count": 8,
     "metadata": {},
     "output_type": "execute_result"
    }
   ],
   "source": [
    "x_train[0].shape"
   ]
  },
  {
   "cell_type": "markdown",
   "metadata": {},
   "source": [
    "After loading mnist..check length=2..means data_train and data_test\n",
    "\n",
    "After dividing that see length of data_train and data_test ..its 2 each ..means data_train can be divided into xtrain, ytrain and same for data_test"
   ]
  },
  {
   "cell_type": "code",
   "execution_count": 9,
   "metadata": {},
   "outputs": [],
   "source": [
    "# Peforming reshaping operation\n",
    "x_train = x_train.reshape(x_train.shape[0], 28, 28, 1)\n",
    "x_test = x_test.reshape(x_test.shape[0], 28, 28, 1)\n",
    "\n",
    "# Normalization\n",
    "x_train = x_train / 255\n",
    "x_test = x_test / 255\n",
    "\n",
    "# One Hot Encoding\n",
    "y_train = keras.utils.to_categorical(y_train, 10)\n",
    "y_test = keras.utils.to_categorical(y_test, 10)"
   ]
  },
  {
   "cell_type": "markdown",
   "metadata": {},
   "source": [
    "## Building Model "
   ]
  },
  {
   "cell_type": "code",
   "execution_count": 10,
   "metadata": {},
   "outputs": [],
   "source": [
    "model = Sequential()\n",
    "\n",
    "# Parameters between input layer and C1 layer: 6 ∗ (5 ∗ 5 + 1)\n",
    "model.add(Conv2D(6, kernel_size=(5, 5), activation='relu', input_shape=(28, 28, 1)))\n",
    "# The input of this layer is the output of the first layer, which is a 28 * 28 * 6  matrix.\n",
    "# The size of the filter used in this layer is 2 * 2, and the step length and width are both 2, so the output matrix size of this layer is 14 * 14 * 6.\n",
    "model.add(MaxPooling2D(pool_size=(2, 2)))\n",
    "# The input matrix size of this layer is 14 * 14 * 6, the filter size used is 5 * 5, and the depth is 16. This layer does not use all 0 padding, and the step size is 1.\n",
    "# The output matrix size of this layer is 10 * 10 * 16. This layer has 5 * 5 * 6 * 16 + 16 = 2416 parameters\n",
    "model.add(Conv2D(16, kernel_size=(5, 5), activation='relu'))\n",
    "# The input matrix size of this layer is 10 * 10 * 16. The size of the filter used in this layer is 2 * 2, and the length and width steps are both 2, so the output matrix size of this layer is 5 * 5 * 16.\n",
    "model.add(MaxPooling2D(pool_size=(2, 2)))\n",
    "# The input matrix size of this layer is 5 * 5 * 16. This layer is called a convolution layer in the LeNet-5 paper, but because the size of the filter is 5 * 5, #\n",
    "\n",
    "# The number of output nodes in this layer is 120, with a total of 5 * 5 * 16 * 120 + 120 = 48120 parameters.\n",
    "model.add(Flatten())\n",
    "model.add(Dense(120, activation='relu'))\n",
    "# The number of input nodes in this layer is 120 and the number of output nodes is 84. The total parameter is 120 * 84 + 84 = 10164 (w + b)\n",
    "model.add(Dense(84, activation='relu'))\n",
    "# The number of input nodes in this layer is 84 and the number of output nodes is 10. The total parameter is 84 * 10 + 10 = 850\n",
    "model.add(Dense(10, activation='softmax'))"
   ]
  },
  {
   "cell_type": "markdown",
   "metadata": {},
   "source": [
    "The model is slightly modified.\n",
    "\n",
    "Activation actually used was tanh, but here we are using Relu"
   ]
  },
  {
   "cell_type": "code",
   "execution_count": 11,
   "metadata": {},
   "outputs": [
    {
     "name": "stdout",
     "output_type": "stream",
     "text": [
      "Model: \"sequential\"\n",
      "_________________________________________________________________\n",
      "Layer (type)                 Output Shape              Param #   \n",
      "=================================================================\n",
      "conv2d (Conv2D)              (None, 24, 24, 6)         156       \n",
      "_________________________________________________________________\n",
      "max_pooling2d (MaxPooling2D) (None, 12, 12, 6)         0         \n",
      "_________________________________________________________________\n",
      "conv2d_1 (Conv2D)            (None, 8, 8, 16)          2416      \n",
      "_________________________________________________________________\n",
      "max_pooling2d_1 (MaxPooling2 (None, 4, 4, 16)          0         \n",
      "_________________________________________________________________\n",
      "flatten (Flatten)            (None, 256)               0         \n",
      "_________________________________________________________________\n",
      "dense (Dense)                (None, 120)               30840     \n",
      "_________________________________________________________________\n",
      "dense_1 (Dense)              (None, 84)                10164     \n",
      "_________________________________________________________________\n",
      "dense_2 (Dense)              (None, 10)                850       \n",
      "=================================================================\n",
      "Total params: 44,426\n",
      "Trainable params: 44,426\n",
      "Non-trainable params: 0\n",
      "_________________________________________________________________\n"
     ]
    }
   ],
   "source": [
    "model.summary()"
   ]
  },
  {
   "cell_type": "code",
   "execution_count": 12,
   "metadata": {},
   "outputs": [
    {
     "name": "stdout",
     "output_type": "stream",
     "text": [
      "Epoch 1/20\n",
      "469/469 [==============================] - 24s 48ms/step - loss: 0.6890 - accuracy: 0.8067 - val_loss: 0.0992 - val_accuracy: 0.9676\n",
      "Epoch 2/20\n",
      "469/469 [==============================] - 19s 41ms/step - loss: 0.0999 - accuracy: 0.9687 - val_loss: 0.0676 - val_accuracy: 0.9778\n",
      "Epoch 3/20\n",
      "469/469 [==============================] - 19s 41ms/step - loss: 0.0642 - accuracy: 0.9805 - val_loss: 0.0470 - val_accuracy: 0.9851\n",
      "Epoch 4/20\n",
      "469/469 [==============================] - 20s 43ms/step - loss: 0.0490 - accuracy: 0.9854 - val_loss: 0.0386 - val_accuracy: 0.9877\n",
      "Epoch 5/20\n",
      "469/469 [==============================] - 20s 42ms/step - loss: 0.0387 - accuracy: 0.9883 - val_loss: 0.0351 - val_accuracy: 0.9887\n",
      "Epoch 6/20\n",
      "469/469 [==============================] - 20s 42ms/step - loss: 0.0333 - accuracy: 0.9893 - val_loss: 0.0343 - val_accuracy: 0.9886\n",
      "Epoch 7/20\n",
      "469/469 [==============================] - 19s 40ms/step - loss: 0.0276 - accuracy: 0.9913 - val_loss: 0.0353 - val_accuracy: 0.9888\n",
      "Epoch 8/20\n",
      "469/469 [==============================] - 19s 40ms/step - loss: 0.0240 - accuracy: 0.9922 - val_loss: 0.0344 - val_accuracy: 0.9895\n",
      "Epoch 9/20\n",
      "469/469 [==============================] - 19s 40ms/step - loss: 0.0199 - accuracy: 0.9933 - val_loss: 0.0311 - val_accuracy: 0.9903\n",
      "Epoch 10/20\n",
      "469/469 [==============================] - 19s 40ms/step - loss: 0.0172 - accuracy: 0.9942 - val_loss: 0.0335 - val_accuracy: 0.9886\n",
      "Epoch 11/20\n",
      "469/469 [==============================] - 19s 40ms/step - loss: 0.0169 - accuracy: 0.9943 - val_loss: 0.0315 - val_accuracy: 0.9904\n",
      "Epoch 12/20\n",
      "469/469 [==============================] - 19s 40ms/step - loss: 0.0131 - accuracy: 0.9951 - val_loss: 0.0346 - val_accuracy: 0.9895\n",
      "Epoch 13/20\n",
      "469/469 [==============================] - 19s 41ms/step - loss: 0.0124 - accuracy: 0.9958 - val_loss: 0.0337 - val_accuracy: 0.9906\n",
      "Epoch 14/20\n",
      "469/469 [==============================] - 19s 41ms/step - loss: 0.0119 - accuracy: 0.9958 - val_loss: 0.0349 - val_accuracy: 0.9901\n",
      "Epoch 15/20\n",
      "469/469 [==============================] - 19s 41ms/step - loss: 0.0088 - accuracy: 0.9973 - val_loss: 0.0383 - val_accuracy: 0.9899\n",
      "Epoch 16/20\n",
      "469/469 [==============================] - 19s 40ms/step - loss: 0.0099 - accuracy: 0.9967 - val_loss: 0.0353 - val_accuracy: 0.9906\n",
      "Epoch 17/20\n",
      "469/469 [==============================] - 20s 43ms/step - loss: 0.0082 - accuracy: 0.9971 - val_loss: 0.0356 - val_accuracy: 0.9905\n",
      "Epoch 18/20\n",
      "469/469 [==============================] - 19s 41ms/step - loss: 0.0087 - accuracy: 0.9967 - val_loss: 0.0380 - val_accuracy: 0.9898\n",
      "Epoch 19/20\n",
      "469/469 [==============================] - 20s 43ms/step - loss: 0.0064 - accuracy: 0.9977 - val_loss: 0.0507 - val_accuracy: 0.9893\n",
      "Epoch 20/20\n",
      "469/469 [==============================] - 19s 40ms/step - loss: 0.0071 - accuracy: 0.9976 - val_loss: 0.0487 - val_accuracy: 0.9878\n",
      "313/313 [==============================] - 2s 6ms/step - loss: 0.0487 - accuracy: 0.9878\n"
     ]
    }
   ],
   "source": [
    "model.compile(loss=keras.metrics.categorical_crossentropy, optimizer=keras.optimizers.Adam(), metrics=['accuracy'])\n",
    "model.fit(x_train, y_train, batch_size=128, epochs=20, verbose=1, validation_data=(x_test, y_test))\n",
    "score = model.evaluate(x_test, y_test)\n"
   ]
  },
  {
   "cell_type": "code",
   "execution_count": 13,
   "metadata": {},
   "outputs": [
    {
     "name": "stdout",
     "output_type": "stream",
     "text": [
      "Test Loss: 0.04871426522731781\n",
      "Test accuracy: 0.9878000020980835\n"
     ]
    }
   ],
   "source": [
    "print('Test Loss:', score[0])\n",
    "print('Test accuracy:', score[1])"
   ]
  },
  {
   "cell_type": "markdown",
   "metadata": {},
   "source": [
    "We have good good accuracy. Now, let us predict on some handwritten images"
   ]
  },
  {
   "cell_type": "markdown",
   "metadata": {},
   "source": [
    "## Predicting on Handwritten images clicked from phone"
   ]
  },
  {
   "cell_type": "code",
   "execution_count": 18,
   "metadata": {},
   "outputs": [],
   "source": [
    "from keras.preprocessing import image\n",
    "import numpy as np"
   ]
  },
  {
   "cell_type": "code",
   "execution_count": 19,
   "metadata": {},
   "outputs": [],
   "source": [
    "filename = 'test9.jpg'"
   ]
  },
  {
   "cell_type": "markdown",
   "metadata": {},
   "source": [
    "![Lenet2](test9.jpg)"
   ]
  },
  {
   "cell_type": "code",
   "execution_count": 40,
   "metadata": {},
   "outputs": [],
   "source": [
    "from skimage import transform\n",
    "def predict_image(filename):\n",
    "    test_image = image.load_img(filename,target_size = (28, 28))\n",
    "    test_image = image.img_to_array(test_image)/255\n",
    "    test_image = transform.resize(test_image, (28, 28, 1))\n",
    "    test_image = np.expand_dims(test_image,axis=0)\n",
    "    result = model.predict(test_image)\n",
    "    return result"
   ]
  },
  {
   "cell_type": "code",
   "execution_count": null,
   "metadata": {},
   "outputs": [],
   "source": []
  },
  {
   "cell_type": "code",
   "execution_count": 28,
   "metadata": {},
   "outputs": [],
   "source": [
    "Prediction = np.argmax(predict_image(filename))+1   #Adding 1 sine it starts with 0 index"
   ]
  },
  {
   "cell_type": "code",
   "execution_count": 29,
   "metadata": {},
   "outputs": [
    {
     "name": "stdout",
     "output_type": "stream",
     "text": [
      "Predcition is:  9\n"
     ]
    }
   ],
   "source": [
    "print('Predcition is: ',Prediction)"
   ]
  },
  {
   "cell_type": "code",
   "execution_count": null,
   "metadata": {},
   "outputs": [],
   "source": []
  }
 ],
 "metadata": {
  "kernelspec": {
   "display_name": "Python 3",
   "language": "python",
   "name": "python3"
  },
  "language_info": {
   "codemirror_mode": {
    "name": "ipython",
    "version": 3
   },
   "file_extension": ".py",
   "mimetype": "text/x-python",
   "name": "python",
   "nbconvert_exporter": "python",
   "pygments_lexer": "ipython3",
   "version": "3.8.5"
  }
 },
 "nbformat": 4,
 "nbformat_minor": 4
}
